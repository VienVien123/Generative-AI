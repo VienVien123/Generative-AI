{
 "cells": [
  {
   "cell_type": "code",
   "execution_count": 2,
   "metadata": {},
   "outputs": [
    {
     "name": "stderr",
     "output_type": "stream",
     "text": [
      "e:\\my_ppro\\GEN AI\\venv\\lib\\site-packages\\tqdm\\auto.py:21: TqdmWarning: IProgress not found. Please update jupyter and ipywidgets. See https://ipywidgets.readthedocs.io/en/stable/user_install.html\n",
      "  from .autonotebook import tqdm as notebook_tqdm\n"
     ]
    }
   ],
   "source": [
    "from transformers import AutoTokenizer, AutoModelForCausalLM"
   ]
  },
  {
   "cell_type": "code",
   "execution_count": 1,
   "metadata": {},
   "outputs": [
    {
     "name": "stderr",
     "output_type": "stream",
     "text": [
      "e:\\my_ppro\\GEN AI\\venv\\lib\\site-packages\\tqdm\\auto.py:21: TqdmWarning: IProgress not found. Please update jupyter and ipywidgets. See https://ipywidgets.readthedocs.io/en/stable/user_install.html\n",
      "  from .autonotebook import tqdm as notebook_tqdm\n"
     ]
    }
   ],
   "source": [
    "from transformers import AutoTokenizer, AutoModelForCausalLM\n",
    "import torch\n",
    "\n",
    "# Check if a GPU is available\n",
    "device = torch.device(\"cuda\" if torch.cuda.is_available() else \"cpu\")\n",
    "\n",
    "# Load the tokenizer and model\n",
    "tokenizer = AutoTokenizer.from_pretrained('bigscience/bloom-560m')\n",
    "model = AutoModelForCausalLM.from_pretrained('bigscience/bloom-560m')\n",
    "\n",
    "# Move the model to the GPU (or CPU if GPU isn't available)\n",
    "model = model.to(device)"
   ]
  },
  {
   "cell_type": "code",
   "execution_count": 2,
   "metadata": {},
   "outputs": [
    {
     "name": "stderr",
     "output_type": "stream",
     "text": [
      "e:\\my_ppro\\GEN AI\\venv\\lib\\site-packages\\transformers\\generation\\configuration_utils.py:638: UserWarning: `num_beams` is set to 1. However, `early_stopping` is set to `True` -- this flag is only used in beam-based generation modes. You should set `num_beams>1` or unset `early_stopping`.\n",
      "  warnings.warn(\n",
      "The attention mask is not set and cannot be inferred from input because pad token is same as eos token. As a consequence, you may observe unexpected behavior. Please pass your input's `attention_mask` to obtain reliable results.\n"
     ]
    },
    {
     "name": "stdout",
     "output_type": "stream",
     "text": [
      ">>Generated text1\n",
      "\n",
      "bạn có thể nói tiếng việt? Không hẳn cả 2 đều cần. Nếu cả hai đều có, thì có sao không? Và vì thế, đây là bài viết mình sẽ chia sẻ đến bạn trong bài này nhé.</s>\n",
      "\n",
      "---\n"
     ]
    }
   ],
   "source": [
    "prompt = \"bạn có thể nói tiếng việt?\"\n",
    "max_length = 100\n",
    "num_return_sequences = 1\n",
    "\n",
    "input_ids = tokenizer.encode(prompt, return_tensors = 'pt').to(device)\n",
    "outputs = model.generate(input_ids,\n",
    "                        pad_token_id = tokenizer.eos_token_id,\n",
    "                         do_sample = True,\n",
    "                         max_length=max_length,\n",
    "                         top_p = 90,\n",
    "                         top_k=50,\n",
    "                         temperature=0.8,\n",
    "                         early_stopping = True,\n",
    "                         no_repeat_ngram_size = 2,\n",
    "                         num_return_sequences = num_return_sequences\n",
    "\n",
    "                        )\n",
    "\n",
    "for i, output in enumerate(outputs):\n",
    "    print(\">>Generated text{}\\n\\n{}\".format(i+1, tokenizer.decode(output.tolist())))\n",
    "    print('\\n---')"
   ]
  },
  {
   "cell_type": "code",
   "execution_count": null,
   "metadata": {},
   "outputs": [],
   "source": []
  }
 ],
 "metadata": {
  "kernelspec": {
   "display_name": "venv",
   "language": "python",
   "name": "python3"
  },
  "language_info": {
   "codemirror_mode": {
    "name": "ipython",
    "version": 3
   },
   "file_extension": ".py",
   "mimetype": "text/x-python",
   "name": "python",
   "nbconvert_exporter": "python",
   "pygments_lexer": "ipython3",
   "version": "3.10.11"
  }
 },
 "nbformat": 4,
 "nbformat_minor": 2
}
